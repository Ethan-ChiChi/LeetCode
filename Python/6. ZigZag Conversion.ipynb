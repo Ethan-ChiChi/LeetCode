{
 "cells": [
  {
   "cell_type": "code",
   "execution_count": null,
   "metadata": {},
   "outputs": [],
   "source": [
    "s = \"PAYPALISHIRING\"\n",
    "numRows = 3\n",
    "\n",
    "L = [''] * numRows\n",
    "index, step = 0, 1\n",
    "\n",
    "for x in s:\n",
    "    L[index] += x\n",
    "    if index == 0:\n",
    "        step = 1\n",
    "    elif index == numRows -1:\n",
    "        step = -1\n",
    "    index += step\n",
    "\n",
    "y = ''.join(L)\n",
    "            \n"
   ]
  }
 ],
 "metadata": {
  "kernelspec": {
   "display_name": "Python 3",
   "language": "python",
   "name": "python3"
  },
  "language_info": {
   "codemirror_mode": {
    "name": "ipython",
    "version": 3
   },
   "file_extension": ".py",
   "mimetype": "text/x-python",
   "name": "python",
   "nbconvert_exporter": "python",
   "pygments_lexer": "ipython3",
   "version": "3.6.5"
  }
 },
 "nbformat": 4,
 "nbformat_minor": 2
}
